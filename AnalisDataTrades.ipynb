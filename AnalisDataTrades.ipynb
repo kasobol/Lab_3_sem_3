{
  "nbformat": 4,
  "nbformat_minor": 0,
  "metadata": {
    "accelerator": "TPU",
    "colab": {
      "name": "AnalisDataTrades.ipynb",
      "provenance": [],
      "collapsed_sections": [],
      "authorship_tag": "ABX9TyOEX50UpqRotaNxfDueQ9wA",
      "include_colab_link": true
    },
    "kernelspec": {
      "display_name": "Python 3",
      "name": "python3"
    },
    "language_info": {
      "name": "python"
    }
  },
  "cells": [
    {
      "cell_type": "markdown",
      "metadata": {
        "id": "view-in-github",
        "colab_type": "text"
      },
      "source": [
        "<a href=\"https://colab.research.google.com/github/kasobol/Lab_3_sem_3/blob/master/AnalisDataTrades.ipynb\" target=\"_parent\"><img src=\"https://colab.research.google.com/assets/colab-badge.svg\" alt=\"Open In Colab\"/></a>"
      ]
    },
    {
      "cell_type": "code",
      "metadata": {
        "colab": {
          "base_uri": "https://localhost:8080/"
        },
        "id": "BAkbJez8r4Ob",
        "outputId": "9d1a8af7-ea6d-4315-d024-46e2062d8f58"
      },
      "source": [
        "from google.colab import drive\n",
        "drive.mount('/content/drive/')"
      ],
      "execution_count": 1,
      "outputs": [
        {
          "output_type": "stream",
          "text": [
            "Drive already mounted at /content/drive/; to attempt to forcibly remount, call drive.mount(\"/content/drive/\", force_remount=True).\n"
          ],
          "name": "stdout"
        }
      ]
    },
    {
      "cell_type": "code",
      "metadata": {
        "colab": {
          "base_uri": "https://localhost:8080/"
        },
        "id": "Bevb-kDosUw6",
        "outputId": "7d655568-d949-40a4-edf3-5712e0af1697"
      },
      "source": [
        "# Загрузка данных\n",
        "\n",
        "import numpy as np\n",
        "import sklearn\n",
        "import gc\n",
        "from sklearn.model_selection import train_test_split\n",
        "\n",
        "data = []\n",
        "with open(\"/content/drive/MyDrive/ColabNotebooks/Data_Trades/XBT_Price_Jump_Min(0.5)_Data_(2017_11_01).txt\", 'r') as fObj:\n",
        "  data = np.array(fObj.read().split()).astype(float)\n",
        "\n",
        "#data = data[10000000:len(data)]\n",
        "data = data[:]\n",
        "x_data = np.array([data[i: i + 50] for i in range(0, len(data) - 59)])\n",
        "y_data = np.array([np.sum(data[i: i + 10]) for i in range(50, len(data) - 9)])\n",
        "#y_data = data[50:len(data)]\n",
        "\n",
        "delimit = int(0.8 * len(x_data))\n",
        "\n",
        "train_data = x_data[:delimit]\n",
        "train_targets = y_data[:delimit]\n",
        "test_data = x_data[delimit:]\n",
        "test_targets = y_data[delimit:]\n",
        "\n",
        "#train_data, test_data, train_targets, test_targets = train_test_split(x_data, y_data, test_size = 0.2, shuffle = True)\n",
        "del x_data\n",
        "del y_data\n",
        "del data\n",
        "gc.collect()\n"
      ],
      "execution_count": 2,
      "outputs": [
        {
          "output_type": "execute_result",
          "data": {
            "text/plain": [
              "0"
            ]
          },
          "metadata": {
            "tags": []
          },
          "execution_count": 2
        }
      ]
    },
    {
      "cell_type": "code",
      "metadata": {
        "colab": {
          "base_uri": "https://localhost:8080/"
        },
        "id": "pVGyQlVuAcJF",
        "outputId": "34b20e8e-7a84-4688-8f6d-e5ecd31e41fb"
      },
      "source": [
        "mas = np.abs(test_targets)\n",
        "mas.mean()"
      ],
      "execution_count": 3,
      "outputs": [
        {
          "output_type": "execute_result",
          "data": {
            "text/plain": [
              "27.038989976103995"
            ]
          },
          "metadata": {
            "tags": []
          },
          "execution_count": 3
        }
      ]
    },
    {
      "cell_type": "code",
      "metadata": {
        "id": "Gwqg5C6iCHYa"
      },
      "source": [
        "# Нормализация данных\n",
        "\n",
        "from sklearn import preprocessing\n",
        "\n",
        "train_data = preprocessing.normalize(train_data)\n",
        "test_data = preprocessing.normalize(test_data)\n",
        "\n",
        "#mean = train_data.mean(axis=0)\n",
        "#train_data -= mean\n",
        "#std = train_data.std(axis=0)\n",
        "#train_data /= std\n",
        "#test_data -= mean\n",
        "#test_data /= std"
      ],
      "execution_count": 4,
      "outputs": []
    },
    {
      "cell_type": "code",
      "metadata": {
        "id": "F6w5vboGEvrV"
      },
      "source": [
        "# Конструирование сети\n",
        "\n",
        "from keras import models\n",
        "from keras import layers\n",
        "#from tensorflow.keras.optimizers import Adam\n",
        "\n",
        "def build_model():\n",
        "  model = models.Sequential()\n",
        "  model.add(layers.Dense(50, activation='relu',\n",
        "  input_shape=(train_data.shape[1],)))\n",
        "  model.add(layers.Dense(50, activation='relu'))\n",
        "  model.add(layers.Dense(1))\n",
        "  optimizer='rmsprop'\n",
        "  #optimizer = Adam(learning_rate=0.0001, beta_1=0.9, beta_2=0.999, amsgrad=False)\n",
        "  model.compile(optimizer = optimizer, loss='mae', metrics=['mae'])\n",
        "  return model"
      ],
      "execution_count": 5,
      "outputs": []
    },
    {
      "cell_type": "code",
      "metadata": {
        "colab": {
          "base_uri": "https://localhost:8080/"
        },
        "id": "GwNlpzPgCguL",
        "outputId": "c8263bd0-01c3-48b0-80f6-24fb88fff509"
      },
      "source": [
        "test_data.shape"
      ],
      "execution_count": 6,
      "outputs": [
        {
          "output_type": "execute_result",
          "data": {
            "text/plain": [
              "(2124623, 50)"
            ]
          },
          "metadata": {
            "tags": []
          },
          "execution_count": 6
        }
      ]
    },
    {
      "cell_type": "code",
      "metadata": {
        "colab": {
          "base_uri": "https://localhost:8080/"
        },
        "id": "advKhrmfCjSQ",
        "outputId": "6f29d9cf-be2d-431d-ef95-b0d084e5c007"
      },
      "source": [
        "test_targets.shape"
      ],
      "execution_count": 7,
      "outputs": [
        {
          "output_type": "execute_result",
          "data": {
            "text/plain": [
              "(2124623,)"
            ]
          },
          "metadata": {
            "tags": []
          },
          "execution_count": 7
        }
      ]
    },
    {
      "cell_type": "code",
      "metadata": {
        "colab": {
          "base_uri": "https://localhost:8080/"
        },
        "id": "B1Byi7G9FWo0",
        "outputId": "dff6ed57-0832-4a86-f2af-51ab7128fbb6"
      },
      "source": [
        "num_epochs = 2\n",
        "\n",
        "model = build_model()\n",
        "\n",
        "history = model.fit(train_data, train_targets,\n",
        " validation_data = (test_data, test_targets),\n",
        " epochs=num_epochs, batch_size = 256, verbose = 1)"
      ],
      "execution_count": 8,
      "outputs": [
        {
          "output_type": "stream",
          "text": [
            "Epoch 1/2\n",
            "33198/33198 [==============================] - 65s 2ms/step - loss: 9.7612 - mae: 9.7612 - val_loss: 26.9787 - val_mae: 26.9787\n",
            "Epoch 2/2\n",
            "33198/33198 [==============================] - 62s 2ms/step - loss: 9.7042 - mae: 9.7042 - val_loss: 26.9661 - val_mae: 26.9661\n"
          ],
          "name": "stdout"
        }
      ]
    },
    {
      "cell_type": "code",
      "metadata": {
        "id": "DFAQ7axfHP2X"
      },
      "source": [
        "mas = model(test_data)"
      ],
      "execution_count": 9,
      "outputs": []
    },
    {
      "cell_type": "code",
      "metadata": {
        "colab": {
          "base_uri": "https://localhost:8080/"
        },
        "id": "52Iil0PK9xj8",
        "outputId": "aeac1bb3-56b7-4982-993f-f4e83556187a"
      },
      "source": [
        "test_targets"
      ],
      "execution_count": 11,
      "outputs": [
        {
          "output_type": "execute_result",
          "data": {
            "text/plain": [
              "array([  0. , -11.5,  -3.5, ...,  11.5,  -4.5,  -3.5])"
            ]
          },
          "metadata": {
            "tags": []
          },
          "execution_count": 11
        }
      ]
    },
    {
      "cell_type": "code",
      "metadata": {
        "id": "yL9T4rTFsCba"
      },
      "source": [
        "import tensorflow as tf\n",
        "mas = tf.reshape(mas, [-1]).numpy()"
      ],
      "execution_count": 12,
      "outputs": []
    },
    {
      "cell_type": "code",
      "metadata": {
        "colab": {
          "base_uri": "https://localhost:8080/"
        },
        "id": "SjJEfug7GM8B",
        "outputId": "35fb3363-2c26-4d18-c190-115903047526"
      },
      "source": [
        "mas"
      ],
      "execution_count": 13,
      "outputs": [
        {
          "output_type": "execute_result",
          "data": {
            "text/plain": [
              "array([ 4.4742146, -0.3407599,  3.1708238, ..., -3.9761286, -3.688902 ,\n",
              "       -1.7415874], dtype=float32)"
            ]
          },
          "metadata": {
            "tags": []
          },
          "execution_count": 13
        }
      ]
    },
    {
      "cell_type": "code",
      "metadata": {
        "id": "BT-Nqks5Gj76"
      },
      "source": [
        "count1 = 0\n",
        "all_count1 = len(mas)\n",
        "for i in range(0, len(mas)):\n",
        "  if mas[i] >= 0 and test_targets[i] >= 0:\n",
        "    #all_count = all_count + 1\n",
        "    count1 = count1 + 1\n",
        "  elif mas[i] < 0 and test_targets[i] < 0:\n",
        "    #all_count = all_count + 1\n",
        "    count1 = count1 + 1"
      ],
      "execution_count": 16,
      "outputs": []
    },
    {
      "cell_type": "code",
      "metadata": {
        "colab": {
          "base_uri": "https://localhost:8080/"
        },
        "id": "TUrjLROSHCXY",
        "outputId": "9986a46e-f898-4956-c7cb-400e3f2add95"
      },
      "source": [
        "count1 / all_count1"
      ],
      "execution_count": 17,
      "outputs": [
        {
          "output_type": "execute_result",
          "data": {
            "text/plain": [
              "0.5362127775139401"
            ]
          },
          "metadata": {
            "tags": []
          },
          "execution_count": 17
        }
      ]
    },
    {
      "cell_type": "code",
      "metadata": {
        "id": "z-yqHbqjmPNZ"
      },
      "source": [
        "count = 0\n",
        "all_count = 0\n",
        "for i in range(0, len(mas)):\n",
        "  if mas[i] >= 0:\n",
        "    all_count = all_count + mas[i]\n",
        "    count = count + test_targets[i]\n",
        "  else:\n",
        "    all_count = all_count - mas[i]\n",
        "    count = count - test_targets[i]"
      ],
      "execution_count": 18,
      "outputs": []
    },
    {
      "cell_type": "code",
      "metadata": {
        "colab": {
          "base_uri": "https://localhost:8080/"
        },
        "id": "KziGJ-GAsI9h",
        "outputId": "01d7c601-a6af-4a20-81ab-00cd588fe651"
      },
      "source": [
        "count / all_count"
      ],
      "execution_count": 19,
      "outputs": [
        {
          "output_type": "execute_result",
          "data": {
            "text/plain": [
              "0.9696374133812368"
            ]
          },
          "metadata": {
            "tags": []
          },
          "execution_count": 19
        }
      ]
    },
    {
      "cell_type": "code",
      "metadata": {
        "id": "2WNqwtebsMCc"
      },
      "source": [
        "num = 0\n",
        "for i in range(0, len(test_targets)):\n",
        "  if test_targets[i] >= 0:\n",
        "    num = num + test_targets[i]\n",
        "  else:\n",
        "    num = num - test_targets[i]"
      ],
      "execution_count": 77,
      "outputs": []
    },
    {
      "cell_type": "code",
      "metadata": {
        "colab": {
          "base_uri": "https://localhost:8080/"
        },
        "id": "YrAcBz-l1SIw",
        "outputId": "096a7cc2-3810-4c15-a117-5df329c4f59b"
      },
      "source": [
        "num"
      ],
      "execution_count": 78,
      "outputs": [
        {
          "output_type": "execute_result",
          "data": {
            "text/plain": [
              "8742337.700000007"
            ]
          },
          "metadata": {
            "tags": []
          },
          "execution_count": 78
        }
      ]
    },
    {
      "cell_type": "code",
      "metadata": {
        "colab": {
          "base_uri": "https://localhost:8080/"
        },
        "id": "SvC2AH481Ty6",
        "outputId": "c46f233e-f774-4f79-b8c6-489cbe1e65b3"
      },
      "source": [
        "test_targets.shape"
      ],
      "execution_count": 76,
      "outputs": [
        {
          "output_type": "execute_result",
          "data": {
            "text/plain": [
              "(186942,)"
            ]
          },
          "metadata": {
            "tags": []
          },
          "execution_count": 76
        }
      ]
    },
    {
      "cell_type": "code",
      "metadata": {
        "id": "BWIvIQYj1gtV"
      },
      "source": [
        ""
      ],
      "execution_count": null,
      "outputs": []
    }
  ]
}