{
  "nbformat": 4,
  "nbformat_minor": 0,
  "metadata": {
    "accelerator": "TPU",
    "colab": {
      "name": "AnalisDataTrades.ipynb",
      "provenance": [],
      "collapsed_sections": [],
      "authorship_tag": "ABX9TyOlu1vEATT/PvktrQT9lor+",
      "include_colab_link": true
    },
    "kernelspec": {
      "display_name": "Python 3",
      "name": "python3"
    },
    "language_info": {
      "name": "python"
    }
  },
  "cells": [
    {
      "cell_type": "markdown",
      "metadata": {
        "id": "view-in-github",
        "colab_type": "text"
      },
      "source": [
        "<a href=\"https://colab.research.google.com/github/kasobol/Lab_3_sem_3/blob/master/AnalisDataTrades.ipynb\" target=\"_parent\"><img src=\"https://colab.research.google.com/assets/colab-badge.svg\" alt=\"Open In Colab\"/></a>"
      ]
    },
    {
      "cell_type": "code",
      "metadata": {
        "colab": {
          "base_uri": "https://localhost:8080/"
        },
        "id": "BAkbJez8r4Ob",
        "outputId": "100926f2-8b5a-477b-e742-596d2de24610"
      },
      "source": [
        "from google.colab import drive\n",
        "drive.mount('/content/drive/')"
      ],
      "execution_count": 1,
      "outputs": [
        {
          "output_type": "stream",
          "text": [
            "Drive already mounted at /content/drive/; to attempt to forcibly remount, call drive.mount(\"/content/drive/\", force_remount=True).\n"
          ],
          "name": "stdout"
        }
      ]
    },
    {
      "cell_type": "code",
      "metadata": {
        "colab": {
          "base_uri": "https://localhost:8080/"
        },
        "id": "Bevb-kDosUw6",
        "outputId": "e70c3f65-aa2d-492f-f927-f48d7e80cf70"
      },
      "source": [
        "# Загрузка данных\n",
        "\n",
        "import numpy as np\n",
        "import sklearn\n",
        "import gc\n",
        "from sklearn.model_selection import train_test_split\n",
        "\n",
        "data = []\n",
        "with open(\"/content/drive/MyDrive/ColabNotebooks/Data_Trades/XBT_Price_Jump_Min(0.5)_Data_(2017_11_01).txt\", 'r') as fObj:\n",
        "  data = np.array(fObj.read().split()).astype(float)\n",
        "\n",
        "#data = data[10000000:len(data)]\n",
        "data = data[:]\n",
        "x_data = np.array([data[i: i + 50] for i in range(0, len(data) - 54)])\n",
        "y_data = np.array([np.sum(data[i: i + 5]) for i in range(50, len(data) - 4)])\n",
        "#y_data = data[50:len(data)]\n",
        "\n",
        "delimit = int(0.8 * len(x_data))\n",
        "\n",
        "train_data = x_data[:delimit]\n",
        "train_targets = y_data[:delimit]\n",
        "test_data = x_data[delimit:]\n",
        "test_targets = y_data[delimit:]\n",
        "\n",
        "#train_data, test_data, train_targets, test_targets = train_test_split(x_data, y_data, test_size = 0.2, shuffle = True)\n",
        "del x_data\n",
        "del y_data\n",
        "del data\n",
        "gc.collect()\n"
      ],
      "execution_count": 2,
      "outputs": [
        {
          "output_type": "execute_result",
          "data": {
            "text/plain": [
              "0"
            ]
          },
          "metadata": {
            "tags": []
          },
          "execution_count": 2
        }
      ]
    },
    {
      "cell_type": "code",
      "metadata": {
        "colab": {
          "base_uri": "https://localhost:8080/"
        },
        "id": "pVGyQlVuAcJF",
        "outputId": "8c7db316-6a09-40eb-873a-002f81003110"
      },
      "source": [
        "mas = np.abs(test_targets)\n",
        "mas.mean()"
      ],
      "execution_count": 3,
      "outputs": [
        {
          "output_type": "execute_result",
          "data": {
            "text/plain": [
              "21.68388689010385"
            ]
          },
          "metadata": {
            "tags": []
          },
          "execution_count": 3
        }
      ]
    },
    {
      "cell_type": "code",
      "metadata": {
        "id": "Gwqg5C6iCHYa"
      },
      "source": [
        "# Нормализация данных\n",
        "\n",
        "from sklearn import preprocessing\n",
        "\n",
        "train_data = preprocessing.normalize(train_data)\n",
        "test_data = preprocessing.normalize(test_data)\n",
        "\n",
        "#mean = train_data.mean(axis=0)\n",
        "#train_data -= mean\n",
        "#std = train_data.std(axis=0)\n",
        "#train_data /= std\n",
        "#test_data -= mean\n",
        "#test_data /= std"
      ],
      "execution_count": 4,
      "outputs": []
    },
    {
      "cell_type": "code",
      "metadata": {
        "id": "F6w5vboGEvrV"
      },
      "source": [
        "# Конструирование сети\n",
        "\n",
        "from keras import models\n",
        "from keras import layers\n",
        "#from tensorflow.keras.optimizers import Adam\n",
        "\n",
        "def build_model():\n",
        "  model = models.Sequential()\n",
        "  model.add(layers.Dense(100, activation='relu',\n",
        "  input_shape=(train_data.shape[1],)))\n",
        "  model.add(layers.Dense(100, activation='relu'))\n",
        "  model.add(layers.Dense(1))\n",
        "  optimizer='rmsprop'\n",
        "  #optimizer = Adam(learning_rate=0.0001, beta_1=0.9, beta_2=0.999, amsgrad=False)\n",
        "  model.compile(optimizer = optimizer, loss='mae', metrics=['mae'])\n",
        "  return model"
      ],
      "execution_count": 5,
      "outputs": []
    },
    {
      "cell_type": "code",
      "metadata": {
        "colab": {
          "base_uri": "https://localhost:8080/"
        },
        "id": "GwNlpzPgCguL",
        "outputId": "eb05cbbb-a2bc-4ab2-c303-c6c0269cca8b"
      },
      "source": [
        "test_data.shape"
      ],
      "execution_count": 6,
      "outputs": [
        {
          "output_type": "execute_result",
          "data": {
            "text/plain": [
              "(2124624, 50)"
            ]
          },
          "metadata": {
            "tags": []
          },
          "execution_count": 6
        }
      ]
    },
    {
      "cell_type": "code",
      "metadata": {
        "colab": {
          "base_uri": "https://localhost:8080/"
        },
        "id": "advKhrmfCjSQ",
        "outputId": "9cd72731-40de-4327-9dc1-8bf106564432"
      },
      "source": [
        "test_targets.shape"
      ],
      "execution_count": 7,
      "outputs": [
        {
          "output_type": "execute_result",
          "data": {
            "text/plain": [
              "(2124624,)"
            ]
          },
          "metadata": {
            "tags": []
          },
          "execution_count": 7
        }
      ]
    },
    {
      "cell_type": "code",
      "metadata": {
        "colab": {
          "base_uri": "https://localhost:8080/"
        },
        "id": "B1Byi7G9FWo0",
        "outputId": "2d64cb36-8bed-4308-8814-4ebf3c6d14c5"
      },
      "source": [
        "num_epochs = 20\n",
        "\n",
        "model = build_model()\n",
        "\n",
        "history = model.fit(train_data, train_targets,\n",
        " validation_data = (test_data, test_targets),\n",
        " epochs=num_epochs, batch_size = 256, verbose = 1)"
      ],
      "execution_count": 25,
      "outputs": [
        {
          "output_type": "stream",
          "text": [
            "Epoch 1/20\n",
            "33198/33198 [==============================] - 87s 3ms/step - loss: 7.6864 - mae: 7.6864 - val_loss: 20.1663 - val_mae: 20.1663\n",
            "Epoch 2/20\n",
            "33198/33198 [==============================] - 88s 3ms/step - loss: 7.5260 - mae: 7.5260 - val_loss: 19.9397 - val_mae: 19.9397\n",
            "Epoch 3/20\n",
            "33198/33198 [==============================] - 87s 3ms/step - loss: 7.4500 - mae: 7.4500 - val_loss: 19.9152 - val_mae: 19.9152\n",
            "Epoch 4/20\n",
            "33198/33198 [==============================] - 81s 2ms/step - loss: 7.4027 - mae: 7.4027 - val_loss: 19.7809 - val_mae: 19.7809\n",
            "Epoch 5/20\n",
            "33198/33198 [==============================] - 82s 2ms/step - loss: 7.3764 - mae: 7.3764 - val_loss: 19.7649 - val_mae: 19.7649\n",
            "Epoch 6/20\n",
            "33198/33198 [==============================] - 86s 3ms/step - loss: 7.3502 - mae: 7.3502 - val_loss: 19.7058 - val_mae: 19.7058\n",
            "Epoch 7/20\n",
            "33198/33198 [==============================] - 85s 3ms/step - loss: 7.3314 - mae: 7.3314 - val_loss: 19.6804 - val_mae: 19.6804\n",
            "Epoch 8/20\n",
            "33198/33198 [==============================] - 85s 3ms/step - loss: 7.3357 - mae: 7.3357 - val_loss: 19.6365 - val_mae: 19.6365\n",
            "Epoch 9/20\n",
            "33198/33198 [==============================] - 84s 3ms/step - loss: 7.3228 - mae: 7.3228 - val_loss: 19.8390 - val_mae: 19.8390\n",
            "Epoch 10/20\n",
            "33198/33198 [==============================] - 82s 2ms/step - loss: 7.3191 - mae: 7.3191 - val_loss: 19.6844 - val_mae: 19.6844\n",
            "Epoch 11/20\n",
            "33198/33198 [==============================] - 83s 2ms/step - loss: 7.3135 - mae: 7.3135 - val_loss: 19.6255 - val_mae: 19.6255\n",
            "Epoch 12/20\n",
            "33198/33198 [==============================] - 85s 3ms/step - loss: 7.3055 - mae: 7.3055 - val_loss: 19.6287 - val_mae: 19.6287\n",
            "Epoch 13/20\n",
            "33198/33198 [==============================] - 92s 3ms/step - loss: 7.3052 - mae: 7.3052 - val_loss: 19.6395 - val_mae: 19.6395\n",
            "Epoch 14/20\n",
            "33198/33198 [==============================] - 88s 3ms/step - loss: 7.3076 - mae: 7.3076 - val_loss: 19.6492 - val_mae: 19.6492\n",
            "Epoch 15/20\n",
            "33198/33198 [==============================] - 87s 3ms/step - loss: 7.3048 - mae: 7.3048 - val_loss: 19.6075 - val_mae: 19.6075\n",
            "Epoch 16/20\n",
            "33198/33198 [==============================] - 87s 3ms/step - loss: 7.2988 - mae: 7.2988 - val_loss: 19.6006 - val_mae: 19.6006\n",
            "Epoch 17/20\n",
            "33198/33198 [==============================] - 85s 3ms/step - loss: 7.2909 - mae: 7.2909 - val_loss: 19.6341 - val_mae: 19.6341\n",
            "Epoch 18/20\n",
            "33198/33198 [==============================] - 82s 2ms/step - loss: 7.2848 - mae: 7.2848 - val_loss: 19.5947 - val_mae: 19.5947\n",
            "Epoch 19/20\n",
            "33198/33198 [==============================] - 92s 3ms/step - loss: 7.2868 - mae: 7.2868 - val_loss: 19.6245 - val_mae: 19.6245\n",
            "Epoch 20/20\n",
            "33198/33198 [==============================] - 88s 3ms/step - loss: 7.2784 - mae: 7.2784 - val_loss: 19.6197 - val_mae: 19.6197\n"
          ],
          "name": "stdout"
        }
      ]
    },
    {
      "cell_type": "code",
      "metadata": {
        "id": "qHLGYIAWpY__"
      },
      "source": [
        "model."
      ],
      "execution_count": null,
      "outputs": []
    },
    {
      "cell_type": "code",
      "metadata": {
        "id": "DFAQ7axfHP2X"
      },
      "source": [
        "mas = model(test_data)"
      ],
      "execution_count": 27,
      "outputs": []
    },
    {
      "cell_type": "code",
      "metadata": {
        "colab": {
          "base_uri": "https://localhost:8080/"
        },
        "id": "52Iil0PK9xj8",
        "outputId": "3076e6e0-851f-412e-9efa-25099f0a0a5c"
      },
      "source": [
        "test_targets"
      ],
      "execution_count": 28,
      "outputs": [
        {
          "output_type": "execute_result",
          "data": {
            "text/plain": [
              "array([   3.5,  -12.5,    1.5, ...,  -84.5,  -71. , -101.5])"
            ]
          },
          "metadata": {
            "tags": []
          },
          "execution_count": 28
        }
      ]
    },
    {
      "cell_type": "code",
      "metadata": {
        "id": "yL9T4rTFsCba"
      },
      "source": [
        "import tensorflow as tf\n",
        "mas = tf.reshape(mas, [-1]).numpy()"
      ],
      "execution_count": 29,
      "outputs": []
    },
    {
      "cell_type": "code",
      "metadata": {
        "colab": {
          "base_uri": "https://localhost:8080/"
        },
        "id": "SjJEfug7GM8B",
        "outputId": "bd569711-abc0-433a-a32e-2394f1c0825a"
      },
      "source": [
        "mas"
      ],
      "execution_count": 30,
      "outputs": [
        {
          "output_type": "execute_result",
          "data": {
            "text/plain": [
              "array([  9.505546 ,  -5.692021 ,   9.090295 , ..., -11.308599 ,\n",
              "         9.948551 ,  -2.8652139], dtype=float32)"
            ]
          },
          "metadata": {
            "tags": []
          },
          "execution_count": 30
        }
      ]
    },
    {
      "cell_type": "code",
      "metadata": {
        "id": "BT-Nqks5Gj76"
      },
      "source": [
        "count1 = 0\n",
        "all_count1 = len(mas)\n",
        "for i in range(0, len(mas)):\n",
        "  if mas[i] >= 0 and test_targets[i] >= 0:\n",
        "    #all_count = all_count + 1\n",
        "    count1 = count1 + 1\n",
        "  elif mas[i] < 0 and test_targets[i] < 0:\n",
        "    #all_count = all_count + 1\n",
        "    count1 = count1 + 1"
      ],
      "execution_count": 31,
      "outputs": []
    },
    {
      "cell_type": "code",
      "metadata": {
        "colab": {
          "base_uri": "https://localhost:8080/"
        },
        "id": "TUrjLROSHCXY",
        "outputId": "d9d92654-61fe-486e-b2dd-a72441737902"
      },
      "source": [
        "count1 / all_count1"
      ],
      "execution_count": 32,
      "outputs": [
        {
          "output_type": "execute_result",
          "data": {
            "text/plain": [
              "0.7303970020107087"
            ]
          },
          "metadata": {
            "tags": []
          },
          "execution_count": 32
        }
      ]
    },
    {
      "cell_type": "code",
      "metadata": {
        "id": "z-yqHbqjmPNZ"
      },
      "source": [
        "count = 0\n",
        "all_count = 0\n",
        "for i in range(0, len(mas)):\n",
        "  if mas[i] >= 0:\n",
        "    all_count = all_count + mas[i]\n",
        "    count = count + test_targets[i]\n",
        "  else:\n",
        "    all_count = all_count - mas[i]\n",
        "    count = count - test_targets[i]"
      ],
      "execution_count": 33,
      "outputs": []
    },
    {
      "cell_type": "code",
      "metadata": {
        "colab": {
          "base_uri": "https://localhost:8080/"
        },
        "id": "KziGJ-GAsI9h",
        "outputId": "f9106204-2c6b-4f4a-9d2e-ba2c68163e39"
      },
      "source": [
        "count / all_count"
      ],
      "execution_count": 34,
      "outputs": [
        {
          "output_type": "execute_result",
          "data": {
            "text/plain": [
              "2.1010603231450973"
            ]
          },
          "metadata": {
            "tags": []
          },
          "execution_count": 34
        }
      ]
    },
    {
      "cell_type": "code",
      "metadata": {
        "id": "u1VCD1DBUfQq"
      },
      "source": [
        ""
      ],
      "execution_count": null,
      "outputs": []
    }
  ]
}